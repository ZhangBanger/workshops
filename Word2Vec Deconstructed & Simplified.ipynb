{
 "cells": [
  {
   "cell_type": "markdown",
   "metadata": {
    "nbpresent": {
     "id": "9f51b751-4410-47ee-816d-ba11183a3199"
    }
   },
   "source": [
    "## Word Vectors\n",
    "\n",
    "### Synonyms\n",
    "\n",
    "$$ \\vec {happiness} \\approx \\vec {joy} $$\n",
    "\n",
    "$$ \\vec {dog} \\approx \\vec {puppy} $$\n",
    "\n",
    "And also this?\n",
    "\n",
    "$$ \\vec {one} \\approx \\vec {two} $$\n",
    "\n",
    "### Analogies\n",
    "\n",
    "You can do arithmetic and get analogies!\n",
    "\n",
    "$$ \\vec {king} - \\vec {man} + \\vec {woman} \\approx \\vec {queen} $$\n",
    "\n",
    "$$ \\vec {Berlin} - \\vec {Germany} + \\vec {France} \\approx \\vec {Paris} $$\n",
    "\n",
    "## Magic?"
   ]
  },
  {
   "cell_type": "markdown",
   "metadata": {
    "nbpresent": {
     "id": "51120dff-8a6b-4f61-a0f9-b06af0ded0f4"
    }
   },
   "source": [
    "# Embeddings\n",
    "\n",
    "* What is an embedding?\n",
    "* What is a good representation?\n",
    "* Why are embeddings considered good representations?\n",
    "\n",
    "### One-Hot\n",
    "\n",
    "$$ \\vec dog = \\begin{bmatrix} 0 & 0 & ... & 1  & ... & 0  \\end{bmatrix} $$\n",
    "\n",
    "~ 1M dimensions\n",
    "\n",
    "### Dense Embedding\n",
    "\n",
    "$$ \\vec dog = \\begin{bmatrix} 2.5 & -1.6 & ... & 3.2 \\end{bmatrix} $$\n",
    "\n",
    "~ 100-300 dimensions"
   ]
  },
  {
   "cell_type": "markdown",
   "metadata": {
    "nbpresent": {
     "id": "dad58326-e272-42d0-bf32-a25dc0b7b8fa"
    }
   },
   "source": [
    "## Vector Space Model\n",
    "\n",
    "### Vector Sum\n",
    "\n",
    "The sum of vectors $v$ and $u$ is defined as addition of their individual elements.\n",
    "\n",
    "$$ w_i = v_i + u_i $$\n",
    "\n",
    "The resulting vector is the equivalent of adding drawing the tail of $u$ from the head of $v$:\n",
    "\n",
    "### Dot Product -> Similarity\n",
    "\n",
    "The dot product of vectors $\\vec v$ and $\\vec u$ is defined as the sum of the product of their individual elements.\n",
    "\n",
    "$$ \\vec v^T \\vec u = \\sum_i v_i * u_i $$\n",
    "\n",
    "### Good Representations\n",
    "\n",
    "What is a good representation?\n",
    "\n",
    "** Good representations take advantage of prior knowledge to make a downstream machine learning task easier **\n",
    "\n",
    "Why are dense embeddings good representations?\n",
    "\n",
    "** Dense embeddings represent words based on their relatedness, so that a downstream task can make use of such relatedness without having to learn it on its own. The dot product of two related words is high, and the dot product of two unrelated words is low. **"
   ]
  },
  {
   "cell_type": "markdown",
   "metadata": {
    "nbpresent": {
     "id": "9d74f7ac-afb1-4b30-97bb-f896dcbd46d2"
    }
   },
   "source": [
    "## Working Example\n",
    "\n",
    "\"Berlin is a **city** in East Germany\"\n",
    "\n",
    "## Probabilistic Model\n",
    "\n",
    "With input of \"city\" predict words that surround it\n",
    "\n",
    "Berlin -> high probability\n",
    "\n",
    "Germany -> high probability\n",
    "\n",
    "potato -> low probability\n",
    "\n",
    "banana -> low probability\n",
    "\n",
    "### Conditional probability\n",
    "\n",
    "$$ p({Berlin} | {city}) = \\frac{p({Berlin}, {city})}{p(city)} $$"
   ]
  },
  {
   "cell_type": "markdown",
   "metadata": {
    "nbpresent": {
     "id": "17c7770f-a991-4fcb-acfb-7df390fda1b0"
    }
   },
   "source": [
    "## Softmax\n",
    "\n",
    "$$ \\frac {exp(score({ThisWord}, city))}{\\sum_{word}^{AllWords} exp(score(word, city)} $$\n",
    "\n",
    "### Dot Product as Score\n",
    "\n",
    "$$ \\frac{exp(\\vec {Berlin} ^T \\vec {city})}{\\sum_{word} exp(\\vec {word} ^T \\vec {city})} $$"
   ]
  },
  {
   "cell_type": "markdown",
   "metadata": {
    "nbpresent": {
     "id": "95dd8ddb-7d1f-4522-bef4-bc3502e121a0"
    }
   },
   "source": [
    "# Training\n",
    "\n",
    "## Single example\n",
    "\n",
    "\"Berlin is a **city** in East Germany\"\n",
    "\n",
    "#### How do Berlin and city move?\n",
    "\n",
    "#### How do Germany and city move?\n",
    "\n",
    "#### How do banana and city move?\n",
    "\n",
    "### Other examples\n",
    "\n",
    "\"Berlin is in the **country** of Germany\"\n",
    "\n",
    "\"Paris is a **city** in France\""
   ]
  },
  {
   "cell_type": "markdown",
   "metadata": {
    "nbpresent": {
     "id": "6bd05394-1141-4b42-a2fd-ed22d002092f"
    }
   },
   "source": [
    "# Illusion, Explained\n",
    "\n",
    "## How does Word2Vec update individual word vectors?\n",
    "\n",
    "** Word2Vec moves neighbor word vectors towards each other by adding a small multiple of each one to the other **\n",
    "\n",
    "## Why do those updates lead to vector space properties discussed above?\n",
    "\n",
    "** Words with similar neighbors move together in parallel. This parallel movement results in arrangements that are where related word vector pairs form diamond shapes. **"
   ]
  }
 ],
 "metadata": {
  "kernelspec": {
   "display_name": "Python [Root]",
   "language": "python",
   "name": "Python [Root]"
  },
  "language_info": {
   "codemirror_mode": {
    "name": "ipython",
    "version": 3
   },
   "file_extension": ".py",
   "mimetype": "text/x-python",
   "name": "python",
   "nbconvert_exporter": "python",
   "pygments_lexer": "ipython3",
   "version": "3.5.1"
  },
  "nbpresent": {
   "slides": {
    "0b2860ce-1515-4f4d-a13a-6fd1945c1378": {
     "id": "0b2860ce-1515-4f4d-a13a-6fd1945c1378",
     "prev": "24b80982-f7d9-4f7c-8a7a-a064026db52d",
     "regions": {
      "250fec68-78ac-4146-ac02-0e3720bf395d": {
       "attrs": {
        "height": 1,
        "width": 1,
        "x": 0,
        "y": 0
       },
       "content": {
        "cell": "95dd8ddb-7d1f-4522-bef4-bc3502e121a0",
        "part": "whole"
       },
       "id": "250fec68-78ac-4146-ac02-0e3720bf395d"
      }
     }
    },
    "24b80982-f7d9-4f7c-8a7a-a064026db52d": {
     "id": "24b80982-f7d9-4f7c-8a7a-a064026db52d",
     "prev": "4ae4eb4d-0dbb-4b83-9989-cf89c5d75b2a",
     "regions": {
      "4fc4b7ce-d11e-491a-a78f-76eeec1da14e": {
       "attrs": {
        "height": 1,
        "width": 1,
        "x": 0,
        "y": 0
       },
       "content": {
        "cell": "17c7770f-a991-4fcb-acfb-7df390fda1b0",
        "part": "whole"
       },
       "id": "4fc4b7ce-d11e-491a-a78f-76eeec1da14e"
      }
     }
    },
    "28b47f18-dc95-4cfc-a70a-9f0620263f90": {
     "id": "28b47f18-dc95-4cfc-a70a-9f0620263f90",
     "prev": null,
     "regions": {
      "ade61b5a-e1b7-403a-85bf-48c64a3fbd82": {
       "attrs": {
        "height": 0.8,
        "width": 0.8,
        "x": 0.1,
        "y": 0.1
       },
       "content": {
        "cell": "9f51b751-4410-47ee-816d-ba11183a3199",
        "part": "whole"
       },
       "id": "ade61b5a-e1b7-403a-85bf-48c64a3fbd82"
      }
     }
    },
    "30db706e-5292-4c6f-b2d7-e6478d669614": {
     "id": "30db706e-5292-4c6f-b2d7-e6478d669614",
     "prev": "0b2860ce-1515-4f4d-a13a-6fd1945c1378",
     "regions": {
      "3f856ff9-d793-4a98-b61a-9f1f49783b94": {
       "attrs": {
        "height": 1,
        "width": 1,
        "x": 0,
        "y": 0
       },
       "content": {
        "cell": "6bd05394-1141-4b42-a2fd-ed22d002092f",
        "part": "whole"
       },
       "id": "3f856ff9-d793-4a98-b61a-9f1f49783b94"
      }
     }
    },
    "4ae4eb4d-0dbb-4b83-9989-cf89c5d75b2a": {
     "id": "4ae4eb4d-0dbb-4b83-9989-cf89c5d75b2a",
     "prev": "fa408131-ab52-43a2-9759-9e3d19c9a427",
     "regions": {
      "ac10804b-083b-4eb6-9707-f70b6f9a87e5": {
       "attrs": {
        "height": 1,
        "width": 1,
        "x": 0,
        "y": 0
       },
       "content": {
        "cell": "9d74f7ac-afb1-4b30-97bb-f896dcbd46d2",
        "part": "whole"
       },
       "id": "ac10804b-083b-4eb6-9707-f70b6f9a87e5"
      }
     }
    },
    "a521c3c4-aecc-4c89-a553-fb42f04f132c": {
     "id": "a521c3c4-aecc-4c89-a553-fb42f04f132c",
     "prev": "28b47f18-dc95-4cfc-a70a-9f0620263f90",
     "regions": {
      "9de8eb85-5f26-479e-ae09-9e7734a22110": {
       "attrs": {
        "height": 0.8,
        "width": 0.8,
        "x": 0.1,
        "y": 0.1
       },
       "content": {
        "cell": "51120dff-8a6b-4f61-a0f9-b06af0ded0f4",
        "part": "whole"
       },
       "id": "9de8eb85-5f26-479e-ae09-9e7734a22110"
      }
     }
    },
    "fa408131-ab52-43a2-9759-9e3d19c9a427": {
     "id": "fa408131-ab52-43a2-9759-9e3d19c9a427",
     "prev": "a521c3c4-aecc-4c89-a553-fb42f04f132c",
     "regions": {
      "a93d2b78-1727-4e25-9909-75591e87c6b6": {
       "attrs": {
        "height": 0.8,
        "width": 0.8,
        "x": 0.1,
        "y": 0.1
       },
       "content": {
        "cell": "dad58326-e272-42d0-bf32-a25dc0b7b8fa",
        "part": "whole"
       },
       "id": "a93d2b78-1727-4e25-9909-75591e87c6b6"
      }
     }
    }
   },
   "themes": {}
  }
 },
 "nbformat": 4,
 "nbformat_minor": 0
}
