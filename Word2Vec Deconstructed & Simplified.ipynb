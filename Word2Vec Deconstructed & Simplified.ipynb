{
 "cells": [
  {
   "cell_type": "markdown",
   "metadata": {
    "nbpresent": {
     "id": "e866baa7-cb0e-4241-9fa3-2896fb4986ea"
    }
   },
   "source": [
    "# Word2Vec Deconstructed (and Simplified)\n",
    "\n",
    "\n",
    "### by Andy Zhang"
   ]
  },
  {
   "cell_type": "markdown",
   "metadata": {
    "nbpresent": {
     "id": "9f51b751-4410-47ee-816d-ba11183a3199"
    }
   },
   "source": [
    "\n",
    "# Word Vectors\n",
    "\n",
    "## Synonyms\n",
    "\n",
    "$$ \\vec {happiness} \\approx \\vec {joy} $$\n",
    "\n",
    "$$ \\vec {dog} \\approx \\vec {puppy} $$\n",
    "\n",
    "And also this?\n",
    "\n",
    "$$ \\vec {one} \\approx \\vec {two} $$\n",
    "\n",
    "## Analogies\n",
    "\n",
    "You can do arithmetic and get analogies!\n",
    "\n",
    "$$ \\vec {king} - \\vec {man} + \\vec {woman} \\approx \\vec {queen} $$\n",
    "\n",
    "$$ \\vec {Berlin} - \\vec {Germany} + \\vec {France} \\approx \\vec {Paris} $$\n",
    "\n",
    "## Magic?"
   ]
  },
  {
   "cell_type": "markdown",
   "metadata": {
    "nbpresent": {
     "id": "51120dff-8a6b-4f61-a0f9-b06af0ded0f4"
    }
   },
   "source": [
    "# Embeddings\n",
    "\n",
    "## Question\n",
    "\n",
    "### What is a word embedding?\n",
    "\n",
    "## Representations\n",
    "\n",
    "### One-Hot\n",
    "\n",
    "$$ \\vec dog = \\begin{bmatrix} 0 & 0 & ... & 1  & ... & 0  \\end{bmatrix} $$\n",
    "\n",
    "~ 1M entries\n",
    "\n",
    "### Dense Embedding\n",
    "\n",
    "$$ \\vec dog = \\begin{bmatrix} 2.5 & -1.6 & ... & 3.2 \\end{bmatrix} $$\n",
    "\n",
    "~ 100-300 entries"
   ]
  },
  {
   "cell_type": "markdown",
   "metadata": {
    "nbpresent": {
     "id": "dad58326-e272-42d0-bf32-a25dc0b7b8fa"
    }
   },
   "source": [
    "# Vector Space Model\n",
    "\n",
    "## Questions\n",
    "\n",
    "### What is a good representation?\n",
    "\n",
    "### Why are word embeddings good representations?\n",
    "\n",
    "## Here is an example of a good representation\n",
    "\n",
    "### Visualize in 3D Space on Whiteboard"
   ]
  },
  {
   "cell_type": "markdown",
   "metadata": {
    "nbpresent": {
     "id": "3c79bbba-b37f-4c7d-b198-d47eb0a70e3b"
    }
   },
   "source": [
    "## Linear Algebra Review\n",
    "\n",
    "### Vector Sum\n",
    "\n",
    "The sum of vectors $v$ and $u$ is defined as addition of their individual elements.\n",
    "\n",
    "$$ w_i = v_i + u_i $$\n",
    "\n",
    "The resulting vector is the equivalent of adding drawing the tail of $u$ from the head of $v$:\n",
    "\n",
    "### Dot Product Or \"Similarity\"\n",
    "\n",
    "The dot product of vectors $\\vec v$ and $\\vec u$ is defined as the sum of the product of their individual elements.\n",
    "\n",
    "$$ \\vec v \\cdot \\vec u = \\sum_i v_i * u_i $$\n",
    "\n",
    "### Examples\n",
    "\n",
    "#### Let's work through some examples on the board"
   ]
  },
  {
   "cell_type": "markdown",
   "metadata": {
    "nbpresent": {
     "id": "9d74f7ac-afb1-4b30-97bb-f896dcbd46d2"
    }
   },
   "source": [
    "# Word2Vec Model\n",
    "\n",
    "## Working Example\n",
    "\n",
    "\"Berlin is a **city** in East Germany\"\n",
    "\n",
    "## Probabilistic Model\n",
    "\n",
    "With input of \"city\" predict words that surround it\n",
    "\n",
    "Berlin -> high probability\n",
    "\n",
    "Germany -> high probability\n",
    "\n",
    "potato -> low probability\n",
    "\n",
    "banana -> low probability\n",
    "\n",
    "### Conditional probability\n",
    "\n",
    "$$ p(\\mathrm{Berlin} \\;|\\; \\mathrm{city}) = \\frac{p(\\mathrm{Berlin}, \\, \\mathrm{city})}{p(\\mathrm{city})} $$"
   ]
  },
  {
   "cell_type": "markdown",
   "metadata": {
    "nbpresent": {
     "id": "17c7770f-a991-4fcb-acfb-7df390fda1b0"
    }
   },
   "source": [
    "## Softmax\n",
    "\n",
    "$$ \\frac {\\exp(\\mathrm{score}({ThisWord}, city))}{\\sum_{word}^{AllWords} \\exp(\\mathrm{score}(word, city)} $$\n",
    "\n",
    "### Dot Product as Score\n",
    "\n",
    "$$ \\frac{\\exp(\\vec {Berlin} \\cdot \\vec {city})}{\\sum_{word} \\exp(\\vec {word} \\cdot \\vec {city})} $$\n",
    "\n",
    "## Probability  OR Score?\n",
    "\n",
    "$$ p(\\mathrm{Berlin}, \\, \\mathrm{city}) \\propto \\exp(\\vec {Berlin} \\cdot \\vec {city}) $$\n",
    "\n",
    "###  Visualize"
   ]
  },
  {
   "cell_type": "markdown",
   "metadata": {
    "nbpresent": {
     "id": "95dd8ddb-7d1f-4522-bef4-bc3502e121a0"
    }
   },
   "source": [
    "# Training\n",
    "\n",
    "## Single example\n",
    "\n",
    "\"Berlin is a **city** in East Germany\"\n",
    "\n",
    "#### How do Berlin and city move?\n",
    "\n",
    "Let's visualize these movements on the board\n",
    "\n",
    "#### How do Germany and city move?\n",
    "\n",
    "#### How do banana and city move?\n",
    "\n",
    "## Other examples\n",
    "\n",
    "\"Berlin is in the **country** of Germany\"\n",
    "\n",
    "\"Paris is a **city** in France\"\n",
    "\n",
    "#### How do examples like these move in aggregate?"
   ]
  },
  {
   "cell_type": "markdown",
   "metadata": {
    "nbpresent": {
     "id": "6bd05394-1141-4b42-a2fd-ed22d002092f"
    }
   },
   "source": [
    "# Illusion, Explained\n",
    "\n",
    "## How does Word2Vec update individual word vectors?\n",
    "\n",
    "## Why do those updates lead to vector space properties discussed above?"
   ]
  },
  {
   "cell_type": "markdown",
   "metadata": {
    "nbpresent": {
     "id": "118f42c5-7dd6-40fe-8fbe-b5153f890632"
    }
   },
   "source": [
    "# Illusion, Explained\n",
    "\n",
    "## How does Word2Vec update individual word vectors?\n",
    "\n",
    "** Word2Vec moves neighbor word vectors towards each other by adding a small multiple of each one to the other **\n",
    "\n",
    "## Why do those updates lead to vector space properties discussed above?\n",
    "\n",
    "** Words with similar neighbors move together in parallel. This parallel movement results in arrangements that are where related word vector pairs form diamond shapes. **"
   ]
  }
 ],
 "metadata": {
  "kernelspec": {
   "display_name": "Python [Root]",
   "language": "python",
   "name": "Python [Root]"
  },
  "language_info": {
   "codemirror_mode": {
    "name": "ipython",
    "version": 3
   },
   "file_extension": ".py",
   "mimetype": "text/x-python",
   "name": "python",
   "nbconvert_exporter": "python",
   "pygments_lexer": "ipython3",
   "version": "3.5.1"
  },
  "nbpresent": {
   "slides": {
    "04433cd6-830d-45e9-9dec-15eebced2a29": {
     "id": "04433cd6-830d-45e9-9dec-15eebced2a29",
     "prev": "cc0c1302-0d01-4968-8a9c-dfc363a876d6",
     "regions": {
      "3519d9ba-cd74-4436-87cb-3948dbd7bdb7": {
       "attrs": {
        "height": 0.8,
        "width": 0.8,
        "x": 0.1,
        "y": 0.1
       },
       "content": {
        "cell": "17c7770f-a991-4fcb-acfb-7df390fda1b0",
        "part": "whole"
       },
       "id": "3519d9ba-cd74-4436-87cb-3948dbd7bdb7"
      }
     }
    },
    "20fbdf5d-4527-4a48-aaa7-31cdf9342a6e": {
     "id": "20fbdf5d-4527-4a48-aaa7-31cdf9342a6e",
     "prev": "688d3538-f59d-4ab7-b6cc-83aa7ac4ffb6",
     "regions": {
      "4b8e36e4-99e5-439b-8d8d-41ec879a118b": {
       "attrs": {
        "height": 0.8,
        "width": 0.8,
        "x": 0.1,
        "y": 0.1
       },
       "content": {
        "cell": "6bd05394-1141-4b42-a2fd-ed22d002092f",
        "part": "whole"
       },
       "id": "4b8e36e4-99e5-439b-8d8d-41ec879a118b"
      }
     }
    },
    "2aa56ec6-c853-421e-818e-ffa57facb336": {
     "id": "2aa56ec6-c853-421e-818e-ffa57facb336",
     "prev": "a75e5508-55a2-4ee9-a8c1-bf4c9a636d1c",
     "regions": {
      "a4765922-8170-4113-9a2f-e47f7c6e072e": {
       "attrs": {
        "height": 0.8,
        "width": 0.8,
        "x": 0.1,
        "y": 0.1
       },
       "content": {
        "cell": "3c79bbba-b37f-4c7d-b198-d47eb0a70e3b",
        "part": "whole"
       },
       "id": "a4765922-8170-4113-9a2f-e47f7c6e072e"
      }
     }
    },
    "53bf5e07-705b-4307-ad97-9370996e3885": {
     "id": "53bf5e07-705b-4307-ad97-9370996e3885",
     "prev": "7de18872-7caa-4f9a-ace3-4ac8ef1b7d16",
     "regions": {
      "882e5943-088a-4fb6-99fe-da95e64fe7f3": {
       "attrs": {
        "height": 0.8,
        "width": 0.8,
        "x": 0.1,
        "y": 0.1
       },
       "content": {
        "cell": "51120dff-8a6b-4f61-a0f9-b06af0ded0f4",
        "part": "whole"
       },
       "id": "882e5943-088a-4fb6-99fe-da95e64fe7f3"
      }
     }
    },
    "607c2df4-aba3-4ead-afc0-b99f710d2760": {
     "id": "607c2df4-aba3-4ead-afc0-b99f710d2760",
     "prev": null,
     "regions": {
      "4d454888-91cd-49df-94e9-1eefa0b2c1b7": {
       "attrs": {
        "height": 0.8,
        "width": 0.8,
        "x": 0.1,
        "y": 0.1
       },
       "content": {
        "cell": "e866baa7-cb0e-4241-9fa3-2896fb4986ea",
        "part": "whole"
       },
       "id": "4d454888-91cd-49df-94e9-1eefa0b2c1b7"
      }
     }
    },
    "688d3538-f59d-4ab7-b6cc-83aa7ac4ffb6": {
     "id": "688d3538-f59d-4ab7-b6cc-83aa7ac4ffb6",
     "prev": "04433cd6-830d-45e9-9dec-15eebced2a29",
     "regions": {
      "fd368be2-99df-4912-a7ae-33ea760e3938": {
       "attrs": {
        "height": 0.8,
        "width": 0.8,
        "x": 0.1,
        "y": 0.1
       },
       "content": {
        "cell": "95dd8ddb-7d1f-4522-bef4-bc3502e121a0",
        "part": "whole"
       },
       "id": "fd368be2-99df-4912-a7ae-33ea760e3938"
      }
     }
    },
    "7de18872-7caa-4f9a-ace3-4ac8ef1b7d16": {
     "id": "7de18872-7caa-4f9a-ace3-4ac8ef1b7d16",
     "prev": "607c2df4-aba3-4ead-afc0-b99f710d2760",
     "regions": {
      "6ce65002-8f9a-4598-b757-aac06b612f02": {
       "attrs": {
        "height": 0.8,
        "width": 0.8,
        "x": 0.1,
        "y": 0.1
       },
       "content": {
        "cell": "9f51b751-4410-47ee-816d-ba11183a3199",
        "part": "whole"
       },
       "id": "6ce65002-8f9a-4598-b757-aac06b612f02"
      }
     }
    },
    "a75e5508-55a2-4ee9-a8c1-bf4c9a636d1c": {
     "id": "a75e5508-55a2-4ee9-a8c1-bf4c9a636d1c",
     "prev": "53bf5e07-705b-4307-ad97-9370996e3885",
     "regions": {
      "c5b8912f-4135-4c01-bbe3-6b3fdf2a982d": {
       "attrs": {
        "height": 0.8,
        "width": 0.8,
        "x": 0.1,
        "y": 0.1
       },
       "content": {
        "cell": "dad58326-e272-42d0-bf32-a25dc0b7b8fa",
        "part": "whole"
       },
       "id": "c5b8912f-4135-4c01-bbe3-6b3fdf2a982d"
      }
     }
    },
    "ba8c8486-d072-402f-b9bd-82ea00f858e5": {
     "id": "ba8c8486-d072-402f-b9bd-82ea00f858e5",
     "prev": "20fbdf5d-4527-4a48-aaa7-31cdf9342a6e",
     "regions": {
      "3414bc5f-e419-43f5-9e0b-b02fcb2783f1": {
       "attrs": {
        "height": 0.8,
        "width": 0.8,
        "x": 0.1,
        "y": 0.1
       },
       "content": {
        "cell": "118f42c5-7dd6-40fe-8fbe-b5153f890632",
        "part": "whole"
       },
       "id": "3414bc5f-e419-43f5-9e0b-b02fcb2783f1"
      }
     }
    },
    "cc0c1302-0d01-4968-8a9c-dfc363a876d6": {
     "id": "cc0c1302-0d01-4968-8a9c-dfc363a876d6",
     "prev": "2aa56ec6-c853-421e-818e-ffa57facb336",
     "regions": {
      "179d98d4-c29d-4e70-a8e1-21acf37137ef": {
       "attrs": {
        "height": 0.8,
        "width": 0.8,
        "x": 0.1,
        "y": 0.1
       },
       "content": {
        "cell": "9d74f7ac-afb1-4b30-97bb-f896dcbd46d2",
        "part": "whole"
       },
       "id": "179d98d4-c29d-4e70-a8e1-21acf37137ef"
      }
     }
    }
   },
   "themes": {}
  }
 },
 "nbformat": 4,
 "nbformat_minor": 0
}
