{
 "cells": [
  {
   "cell_type": "markdown",
   "metadata": {
    "nbpresent": {
     "id": "e866baa7-cb0e-4241-9fa3-2896fb4986ea"
    }
   },
   "source": [
    "# Word2Vec Deconstructed (and Simplified)\n",
    "\n",
    "\n",
    "### by Andy Zhang"
   ]
  },
  {
   "cell_type": "markdown",
   "metadata": {
    "nbpresent": {
     "id": "9f51b751-4410-47ee-816d-ba11183a3199"
    }
   },
   "source": [
    "\n",
    "# Word Vectors\n",
    "\n",
    "## Synonyms\n",
    "\n",
    "$$ \\vec {happiness} \\approx \\vec {joy} $$\n",
    "\n",
    "$$ \\vec {dog} \\approx \\vec {puppy} $$\n",
    "\n",
    "And also this?\n",
    "\n",
    "$$ \\vec {one} \\approx \\vec {two} $$\n",
    "\n",
    "## Analogies\n",
    "\n",
    "You can do arithmetic and get analogies!\n",
    "\n",
    "$$ \\vec {king} - \\vec {man} + \\vec {woman} \\approx \\vec {queen} $$\n",
    "\n",
    "$$ \\vec {Berlin} - \\vec {Germany} + \\vec {France} \\approx \\vec {Paris} $$\n",
    "\n",
    "## Magic?"
   ]
  },
  {
   "cell_type": "markdown",
   "metadata": {
    "nbpresent": {
     "id": "51120dff-8a6b-4f61-a0f9-b06af0ded0f4"
    }
   },
   "source": [
    "# Embeddings\n",
    "\n",
    "## Question\n",
    "\n",
    "### What is a word embedding?\n",
    "\n",
    "## Representations\n",
    "\n",
    "### One-Hot\n",
    "\n",
    "$$ \\vec dog = \\begin{bmatrix} 0 & 0 & ... & 1  & ... & 0  \\end{bmatrix} $$\n",
    "\n",
    "~ 1M entries\n",
    "\n",
    "### Dense Embedding\n",
    "\n",
    "$$ \\vec dog = \\begin{bmatrix} 2.5 & -1.6 & ... & 3.2 \\end{bmatrix} $$\n",
    "\n",
    "~ 100-300 entries"
   ]
  },
  {
   "cell_type": "markdown",
   "metadata": {
    "nbpresent": {
     "id": "dad58326-e272-42d0-bf32-a25dc0b7b8fa"
    }
   },
   "source": [
    "# Vector Space Model\n",
    "\n",
    "## Questions\n",
    "\n",
    "### What is a good representation?\n",
    "\n",
    "### Why are word embeddings good representations?\n",
    "\n",
    "## Here is an example of a good representation\n",
    "\n",
    "### Visualize in 3D Space on Whiteboard"
   ]
  },
  {
   "cell_type": "markdown",
   "metadata": {
    "nbpresent": {
     "id": "3c79bbba-b37f-4c7d-b198-d47eb0a70e3b"
    }
   },
   "source": [
    "## Linear Algebra Review\n",
    "\n",
    "### Vector Sum\n",
    "\n",
    "The sum of vectors $v$ and $u$ is defined as addition of their individual elements.\n",
    "\n",
    "$$ w_i = v_i + u_i $$\n",
    "\n",
    "The resulting vector is the equivalent of adding drawing the tail of $u$ from the head of $v$:\n",
    "\n",
    "### Dot Product Or \"Similarity\"\n",
    "\n",
    "The dot product of vectors $\\vec v$ and $\\vec u$ is defined as the sum of the product of their individual elements.\n",
    "\n",
    "$$ \\vec v \\cdot \\vec u = \\sum_i v_i * u_i $$\n",
    "\n",
    "### Examples\n",
    "\n",
    "#### Let's work through some examples on the board"
   ]
  },
  {
   "cell_type": "markdown",
   "metadata": {
    "nbpresent": {
     "id": "9d74f7ac-afb1-4b30-97bb-f896dcbd46d2"
    }
   },
   "source": [
    "# Word2Vec Model\n",
    "\n",
    "## Working Example\n",
    "\n",
    "\"Berlin is a **city** in East Germany\"\n",
    "\n",
    "## Probabilistic Model\n",
    "\n",
    "With input of \"city\" predict words that surround it\n",
    "\n",
    "Berlin -> high probability\n",
    "\n",
    "Germany -> high probability\n",
    "\n",
    "potato -> low probability\n",
    "\n",
    "banana -> low probability\n",
    "\n",
    "### Conditional probability\n",
    "\n",
    "$$ p(\\mathrm{Berlin} \\;|\\; \\mathrm{city}) = \\frac{p(\\mathrm{Berlin}, \\, \\mathrm{city})}{p(\\mathrm{city})} $$"
   ]
  },
  {
   "cell_type": "markdown",
   "metadata": {
    "nbpresent": {
     "id": "17c7770f-a991-4fcb-acfb-7df390fda1b0"
    }
   },
   "source": [
    "## Softmax\n",
    "\n",
    "$$ \\frac {\\exp(\\mathrm{score}({ThisWord}, city))}{\\sum_{word}^{AllWords} \\exp(\\mathrm{score}(word, city)} $$\n",
    "\n",
    "### Dot Product as Score\n",
    "\n",
    "$$ \\frac{\\exp(\\vec {Berlin} \\cdot \\vec {city})}{\\sum_{word} \\exp(\\vec {word} \\cdot \\vec {city})} $$\n",
    "\n",
    "## Probability  OR Score?\n",
    "\n",
    "$$ p(\\mathrm{Berlin}, \\, \\mathrm{city}) \\propto \\exp(\\vec {Berlin} \\cdot \\vec {city}) $$\n",
    "\n",
    "###  Visualize"
   ]
  },
  {
   "cell_type": "markdown",
   "metadata": {
    "nbpresent": {
     "id": "95dd8ddb-7d1f-4522-bef4-bc3502e121a0"
    }
   },
   "source": [
    "# Training\n",
    "\n",
    "## Single example\n",
    "\n",
    "\"Berlin is a **city** in East Germany\"\n",
    "\n",
    "#### How do Berlin and city move?\n",
    "\n",
    "Let's visualize these movements on the board\n",
    "\n",
    "#### How do Germany and city move?\n",
    "\n",
    "#### How do banana and city move?\n",
    "\n",
    "## Other examples\n",
    "\n",
    "\"Berlin is in the **country** of Germany\"\n",
    "\n",
    "\"Paris is a **city** in France\"\n",
    "\n",
    "#### How do examples like these move in aggregate?"
   ]
  },
  {
   "cell_type": "markdown",
   "metadata": {
    "nbpresent": {
     "id": "6bd05394-1141-4b42-a2fd-ed22d002092f"
    }
   },
   "source": [
    "# Illusion, Explained\n",
    "\n",
    "## How does Word2Vec update individual word vectors?\n",
    "\n",
    "## Why do those updates lead to vector space properties discussed above?"
   ]
  },
  {
   "cell_type": "markdown",
   "metadata": {
    "nbpresent": {
     "id": "118f42c5-7dd6-40fe-8fbe-b5153f890632"
    }
   },
   "source": [
    "# Illusion, Explained\n",
    "\n",
    "## How does Word2Vec update individual word vectors?\n",
    "\n",
    "** Word2Vec moves neighbor word vectors towards each other by adding a small multiple of each one to the other **\n",
    "\n",
    "## Why do those updates lead to vector space properties discussed above?\n",
    "\n",
    "** Words with similar neighbors move together in parallel. This parallel movement results in arrangements that are where related word vector pairs form diamond shapes. **"
   ]
  },
  {
   "cell_type": "markdown",
   "metadata": {
    "nbpresent": {
     "id": "02b2fa3f-85cc-4e7f-b199-5e0d8da8b339"
    }
   },
   "source": [
    "# Now you are powerful"
   ]
  },
  {
   "cell_type": "markdown",
   "metadata": {
    "nbpresent": {
     "id": "36ad9367-5b1c-406b-b2a3-643a0154b91c"
    }
   },
   "source": [
    "# What can you do with this?\n",
    "\n",
    "### This is the core of all language modeling\n",
    "\n",
    "### Embed images and videos\n",
    "\n",
    "### Embed them in the same space as words!"
   ]
  }
 ],
 "metadata": {
  "kernelspec": {
   "display_name": "Python [Root]",
   "language": "python",
   "name": "Python [Root]"
  },
  "language_info": {
   "codemirror_mode": {
    "name": "ipython",
    "version": 3
   },
   "file_extension": ".py",
   "mimetype": "text/x-python",
   "name": "python",
   "nbconvert_exporter": "python",
   "pygments_lexer": "ipython3",
   "version": "3.5.1"
  },
  "nbpresent": {
   "slides": {
    "05ff4e9c-6281-4011-bb7c-25ded3361908": {
     "id": "05ff4e9c-6281-4011-bb7c-25ded3361908",
     "prev": "2c23cbd5-9f71-4185-bd44-c9fa36d071d9",
     "regions": {
      "0879add1-1ac9-43b1-95f9-f8c27680188d": {
       "attrs": {
        "height": 0.8,
        "width": 0.8,
        "x": 0.1,
        "y": 0.1
       },
       "content": {
        "cell": "9d74f7ac-afb1-4b30-97bb-f896dcbd46d2",
        "part": "whole"
       },
       "id": "0879add1-1ac9-43b1-95f9-f8c27680188d"
      }
     }
    },
    "1674b489-f309-4a97-84e1-6928916ee4e9": {
     "id": "1674b489-f309-4a97-84e1-6928916ee4e9",
     "prev": "05ff4e9c-6281-4011-bb7c-25ded3361908",
     "regions": {
      "a48fc502-deec-43a0-b56c-cc92f2c44152": {
       "attrs": {
        "height": 0.8,
        "width": 0.8,
        "x": 0.1,
        "y": 0.1
       },
       "content": {
        "cell": "17c7770f-a991-4fcb-acfb-7df390fda1b0",
        "part": "whole"
       },
       "id": "a48fc502-deec-43a0-b56c-cc92f2c44152"
      }
     }
    },
    "2c23cbd5-9f71-4185-bd44-c9fa36d071d9": {
     "id": "2c23cbd5-9f71-4185-bd44-c9fa36d071d9",
     "prev": "dc7537f6-5a69-4c7b-a509-5686cb65e6a5",
     "regions": {
      "c3cc15d7-3931-454a-9527-d45cc7a07e22": {
       "attrs": {
        "height": 0.8,
        "width": 0.8,
        "x": 0.1,
        "y": 0.1
       },
       "content": {
        "cell": "3c79bbba-b37f-4c7d-b198-d47eb0a70e3b",
        "part": "whole"
       },
       "id": "c3cc15d7-3931-454a-9527-d45cc7a07e22"
      }
     }
    },
    "4e0e5e98-e2d6-4d89-b3d4-bfed72bdb043": {
     "id": "4e0e5e98-e2d6-4d89-b3d4-bfed72bdb043",
     "prev": "e244ca84-6f39-471e-adbe-2cf2d9375b06",
     "regions": {
      "82a46c63-1188-4ec7-9bbd-2c94235b5329": {
       "attrs": {
        "height": 0.8,
        "width": 0.8,
        "x": 0.1,
        "y": 0.1
       },
       "content": {
        "cell": "118f42c5-7dd6-40fe-8fbe-b5153f890632",
        "part": "whole"
       },
       "id": "82a46c63-1188-4ec7-9bbd-2c94235b5329"
      }
     }
    },
    "6669fe9e-b575-4a2a-bc35-0de9f36b9461": {
     "id": "6669fe9e-b575-4a2a-bc35-0de9f36b9461",
     "prev": "b43aecb3-cf24-485f-8552-3cc36c473a8b",
     "regions": {
      "1ba2548f-5e6e-40b2-a9f6-6e63da0dfca5": {
       "attrs": {
        "height": 0.8,
        "width": 0.8,
        "x": 0.1,
        "y": 0.1
       },
       "content": {
        "cell": "9f51b751-4410-47ee-816d-ba11183a3199",
        "part": "whole"
       },
       "id": "1ba2548f-5e6e-40b2-a9f6-6e63da0dfca5"
      }
     }
    },
    "775cf050-58fd-4802-bfcf-01a2c0224397": {
     "id": "775cf050-58fd-4802-bfcf-01a2c0224397",
     "prev": "1674b489-f309-4a97-84e1-6928916ee4e9",
     "regions": {
      "eea868c3-d590-473b-a941-96088540b095": {
       "attrs": {
        "height": 0.8,
        "width": 0.8,
        "x": 0.1,
        "y": 0.1
       },
       "content": {
        "cell": "95dd8ddb-7d1f-4522-bef4-bc3502e121a0",
        "part": "whole"
       },
       "id": "eea868c3-d590-473b-a941-96088540b095"
      }
     }
    },
    "b43aecb3-cf24-485f-8552-3cc36c473a8b": {
     "id": "b43aecb3-cf24-485f-8552-3cc36c473a8b",
     "prev": null,
     "regions": {
      "aa2a121f-7ccc-4616-8efd-926c2d31cb9b": {
       "attrs": {
        "height": 0.8,
        "width": 0.8,
        "x": 0.1,
        "y": 0.1
       },
       "content": {
        "cell": "e866baa7-cb0e-4241-9fa3-2896fb4986ea",
        "part": "whole"
       },
       "id": "aa2a121f-7ccc-4616-8efd-926c2d31cb9b"
      }
     }
    },
    "d55611b9-fb1e-4b09-b572-482ba66e4643": {
     "id": "d55611b9-fb1e-4b09-b572-482ba66e4643",
     "prev": "e05d1904-53a3-4d36-b064-aeed1147430a",
     "regions": {
      "2513d701-a04e-4c07-8d1f-c3d9a055be0b": {
       "attrs": {
        "height": 0.8,
        "width": 0.8,
        "x": 0.1,
        "y": 0.1
       },
       "content": {
        "cell": "36ad9367-5b1c-406b-b2a3-643a0154b91c",
        "part": "whole"
       },
       "id": "2513d701-a04e-4c07-8d1f-c3d9a055be0b"
      }
     }
    },
    "dc7537f6-5a69-4c7b-a509-5686cb65e6a5": {
     "id": "dc7537f6-5a69-4c7b-a509-5686cb65e6a5",
     "prev": "e599069d-8f71-40e1-8b58-c6ae3dc0a42d",
     "regions": {
      "e6262436-ef31-43b0-a29a-4339719a55e5": {
       "attrs": {
        "height": 0.8,
        "width": 0.8,
        "x": 0.1,
        "y": 0.1
       },
       "content": {
        "cell": "dad58326-e272-42d0-bf32-a25dc0b7b8fa",
        "part": "whole"
       },
       "id": "e6262436-ef31-43b0-a29a-4339719a55e5"
      }
     }
    },
    "e05d1904-53a3-4d36-b064-aeed1147430a": {
     "id": "e05d1904-53a3-4d36-b064-aeed1147430a",
     "prev": "4e0e5e98-e2d6-4d89-b3d4-bfed72bdb043",
     "regions": {
      "db9a9c47-e85c-4d09-ae1e-163f18ffa7b5": {
       "attrs": {
        "height": 0.8,
        "width": 0.8,
        "x": 0.1,
        "y": 0.1
       },
       "content": {
        "cell": "02b2fa3f-85cc-4e7f-b199-5e0d8da8b339",
        "part": "whole"
       },
       "id": "db9a9c47-e85c-4d09-ae1e-163f18ffa7b5"
      }
     }
    },
    "e244ca84-6f39-471e-adbe-2cf2d9375b06": {
     "id": "e244ca84-6f39-471e-adbe-2cf2d9375b06",
     "prev": "775cf050-58fd-4802-bfcf-01a2c0224397",
     "regions": {
      "904bfc31-e243-42fd-aacf-88ce08037cd8": {
       "attrs": {
        "height": 0.8,
        "width": 0.8,
        "x": 0.1,
        "y": 0.1
       },
       "content": {
        "cell": "6bd05394-1141-4b42-a2fd-ed22d002092f",
        "part": "whole"
       },
       "id": "904bfc31-e243-42fd-aacf-88ce08037cd8"
      }
     }
    },
    "e599069d-8f71-40e1-8b58-c6ae3dc0a42d": {
     "id": "e599069d-8f71-40e1-8b58-c6ae3dc0a42d",
     "prev": "6669fe9e-b575-4a2a-bc35-0de9f36b9461",
     "regions": {
      "46c42291-73b6-428d-a804-04e6020650b4": {
       "attrs": {
        "height": 0.8,
        "width": 0.8,
        "x": 0.1,
        "y": 0.1
       },
       "content": {
        "cell": "51120dff-8a6b-4f61-a0f9-b06af0ded0f4",
        "part": "whole"
       },
       "id": "46c42291-73b6-428d-a804-04e6020650b4"
      }
     }
    }
   },
   "themes": {}
  }
 },
 "nbformat": 4,
 "nbformat_minor": 0
}
