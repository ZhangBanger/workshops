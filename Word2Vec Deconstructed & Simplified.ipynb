{
 "cells": [
  {
   "cell_type": "markdown",
   "metadata": {
    "nbpresent": {
     "id": "e866baa7-cb0e-4241-9fa3-2896fb4986ea"
    }
   },
   "source": [
    "# Word2Vec Deconstructed (and Simplified)\n",
    "\n",
    "\n",
    "### by Andy Zhang"
   ]
  },
  {
   "cell_type": "markdown",
   "metadata": {
    "nbpresent": {
     "id": "9f51b751-4410-47ee-816d-ba11183a3199"
    }
   },
   "source": [
    "\n",
    "# Word Vectors\n",
    "\n",
    "## Synonyms\n",
    "\n",
    "$$ \\vec {happiness} \\approx \\vec {joy} $$\n",
    "\n",
    "$$ \\vec {dog} \\approx \\vec {puppy} $$\n",
    "\n",
    "And also this?\n",
    "\n",
    "$$ \\vec {one} \\approx \\vec {two} $$\n",
    "\n",
    "## Analogies\n",
    "\n",
    "You can do arithmetic and get analogies!\n",
    "\n",
    "$$ \\vec {king} - \\vec {man} + \\vec {woman} \\approx \\vec {queen} $$\n",
    "\n",
    "$$ \\vec {Berlin} - \\vec {Germany} + \\vec {France} \\approx \\vec {Paris} $$\n",
    "\n",
    "## Magic?"
   ]
  },
  {
   "cell_type": "markdown",
   "metadata": {
    "nbpresent": {
     "id": "51120dff-8a6b-4f61-a0f9-b06af0ded0f4"
    }
   },
   "source": [
    "# Embeddings\n",
    "\n",
    "## Question\n",
    "\n",
    "### What is a word embedding?\n",
    "\n",
    "## Representations\n",
    "\n",
    "### One-Hot\n",
    "\n",
    "$$ \\vec dog = \\begin{bmatrix} 0 & 0 & ... & 1  & ... & 0  \\end{bmatrix} $$\n",
    "\n",
    "~ 1M entries\n",
    "\n",
    "### Dense Embedding\n",
    "\n",
    "$$ \\vec dog = \\begin{bmatrix} 2.5 & -1.6 & ... & 3.2 \\end{bmatrix} $$\n",
    "\n",
    "~ 100-300 entries"
   ]
  },
  {
   "cell_type": "markdown",
   "metadata": {
    "nbpresent": {
     "id": "dad58326-e272-42d0-bf32-a25dc0b7b8fa"
    }
   },
   "source": [
    "# Vector Space Model\n",
    "\n",
    "## Questions\n",
    "\n",
    "### What is a good representation?\n",
    "\n",
    "### Why are word embeddings good representations?"
   ]
  },
  {
   "cell_type": "markdown",
   "metadata": {
    "nbpresent": {
     "id": "3c79bbba-b37f-4c7d-b198-d47eb0a70e3b"
    }
   },
   "source": [
    "## Linear Algebra Review\n",
    "\n",
    "### Vector Sum\n",
    "\n",
    "The sum of vectors $v$ and $u$ is defined as addition of their individual elements.\n",
    "\n",
    "$$ w_i = v_i + u_i $$\n",
    "\n",
    "The resulting vector is the equivalent of adding drawing the tail of $u$ from the head of $v$:\n",
    "\n",
    "### Dot Product Or \"Similarity\"\n",
    "\n",
    "The dot product of vectors $\\vec v$ and $\\vec u$ is defined as the sum of the product of their individual elements.\n",
    "\n",
    "$$ \\vec v \\cdot \\vec u = \\sum_i v_i * u_i $$"
   ]
  },
  {
   "cell_type": "markdown",
   "metadata": {
    "nbpresent": {
     "id": "9d74f7ac-afb1-4b30-97bb-f896dcbd46d2"
    }
   },
   "source": [
    "# Word2Vec Model\n",
    "\n",
    "## Working Example\n",
    "\n",
    "\"Berlin is a **city** in East Germany\"\n",
    "\n",
    "## Probabilistic Model\n",
    "\n",
    "With input of \"city\" predict words that surround it\n",
    "\n",
    "Berlin -> high probability\n",
    "\n",
    "Germany -> high probability\n",
    "\n",
    "potato -> low probability\n",
    "\n",
    "banana -> low probability\n",
    "\n",
    "### Conditional probability\n",
    "\n",
    "$$ p(\\mathrm{Berlin} \\;|\\; \\mathrm{city}) = \\frac{p(\\mathrm{Berlin}, \\, \\mathrm{city})}{p(\\mathrm{city})} $$"
   ]
  },
  {
   "cell_type": "markdown",
   "metadata": {
    "nbpresent": {
     "id": "17c7770f-a991-4fcb-acfb-7df390fda1b0"
    }
   },
   "source": [
    "## Softmax\n",
    "\n",
    "$$ \\frac {\\exp(\\mathrm{score}({ThisWord}, city))}{\\sum_{word}^{AllWords} \\exp(\\mathrm{score}(word, city)} $$\n",
    "\n",
    "### Dot Product as Score\n",
    "\n",
    "$$ \\frac{\\exp(\\vec {Berlin} \\cdot \\vec {city})}{\\sum_{word} \\exp(\\vec {word} \\cdot \\vec {city})} $$"
   ]
  },
  {
   "cell_type": "markdown",
   "metadata": {
    "nbpresent": {
     "id": "95dd8ddb-7d1f-4522-bef4-bc3502e121a0"
    }
   },
   "source": [
    "# Training\n",
    "\n",
    "## Single example\n",
    "\n",
    "\"Berlin is a **city** in East Germany\"\n",
    "\n",
    "#### How do Berlin and city move?\n",
    "\n",
    "#### How do Germany and city move?\n",
    "\n",
    "#### How do banana and city move?\n",
    "\n",
    "### Other examples\n",
    "\n",
    "\"Berlin is in the **country** of Germany\"\n",
    "\n",
    "\"Paris is a **city** in France\""
   ]
  },
  {
   "cell_type": "markdown",
   "metadata": {
    "nbpresent": {
     "id": "6bd05394-1141-4b42-a2fd-ed22d002092f"
    }
   },
   "source": [
    "# Illusion, Explained\n",
    "\n",
    "## How does Word2Vec update individual word vectors?\n",
    "\n",
    "** Word2Vec moves neighbor word vectors towards each other by adding a small multiple of each one to the other **\n",
    "\n",
    "## Why do those updates lead to vector space properties discussed above?\n",
    "\n",
    "** Words with similar neighbors move together in parallel. This parallel movement results in arrangements that are where related word vector pairs form diamond shapes. **"
   ]
  }
 ],
 "metadata": {
  "kernelspec": {
   "display_name": "Python [Root]",
   "language": "python",
   "name": "Python [Root]"
  },
  "language_info": {
   "codemirror_mode": {
    "name": "ipython",
    "version": 3
   },
   "file_extension": ".py",
   "mimetype": "text/x-python",
   "name": "python",
   "nbconvert_exporter": "python",
   "pygments_lexer": "ipython3",
   "version": "3.5.1"
  },
  "nbpresent": {
   "slides": {
    "0b2860ce-1515-4f4d-a13a-6fd1945c1378": {
     "id": "0b2860ce-1515-4f4d-a13a-6fd1945c1378",
     "prev": "24b80982-f7d9-4f7c-8a7a-a064026db52d",
     "regions": {
      "d70bf9c9-00ca-48cc-81ef-5e6ee0f5c48e": {
       "attrs": {
        "height": 0.8,
        "width": 0.8,
        "x": 0.1,
        "y": 0.1
       },
       "content": {
        "cell": "17c7770f-a991-4fcb-acfb-7df390fda1b0",
        "part": "whole"
       },
       "id": "d70bf9c9-00ca-48cc-81ef-5e6ee0f5c48e"
      }
     }
    },
    "24b80982-f7d9-4f7c-8a7a-a064026db52d": {
     "id": "24b80982-f7d9-4f7c-8a7a-a064026db52d",
     "prev": "4ae4eb4d-0dbb-4b83-9989-cf89c5d75b2a",
     "regions": {
      "c225452b-cb07-481f-935e-92c42218df0b": {
       "attrs": {
        "height": 0.8,
        "width": 0.8,
        "x": 0.1,
        "y": 0.1
       },
       "content": {
        "cell": "9d74f7ac-afb1-4b30-97bb-f896dcbd46d2",
        "part": "whole"
       },
       "id": "c225452b-cb07-481f-935e-92c42218df0b"
      }
     }
    },
    "28b47f18-dc95-4cfc-a70a-9f0620263f90": {
     "id": "28b47f18-dc95-4cfc-a70a-9f0620263f90",
     "layout": "grid",
     "prev": null,
     "regions": {
      "272d54ab-6127-4056-9ae5-835d34c8d5dd": {
       "attrs": {
        "height": 0.8333333333333334,
        "pad": 0.01,
        "width": 0.8333333333333334,
        "x": 0.08333333333333333,
        "y": 0.16666666666666666
       },
       "content": {
        "cell": "e866baa7-cb0e-4241-9fa3-2896fb4986ea",
        "part": "whole"
       },
       "height": 0.5,
       "id": "272d54ab-6127-4056-9ae5-835d34c8d5dd",
       "width": 0.5,
       "x": 0.5,
       "y": 0.5
      }
     }
    },
    "30db706e-5292-4c6f-b2d7-e6478d669614": {
     "id": "30db706e-5292-4c6f-b2d7-e6478d669614",
     "prev": "0b2860ce-1515-4f4d-a13a-6fd1945c1378",
     "regions": {
      "b6d9c6ad-63f4-4f6b-8f30-bf68915a286b": {
       "attrs": {
        "height": 0.8,
        "width": 0.8,
        "x": 0.1,
        "y": 0.1
       },
       "content": {
        "cell": "95dd8ddb-7d1f-4522-bef4-bc3502e121a0",
        "part": "whole"
       },
       "id": "b6d9c6ad-63f4-4f6b-8f30-bf68915a286b"
      }
     }
    },
    "4ae4eb4d-0dbb-4b83-9989-cf89c5d75b2a": {
     "id": "4ae4eb4d-0dbb-4b83-9989-cf89c5d75b2a",
     "prev": "fa408131-ab52-43a2-9759-9e3d19c9a427",
     "regions": {
      "8f4933b0-f609-4915-aa4a-b7a2c3e97edf": {
       "attrs": {
        "height": 0.8,
        "width": 0.8,
        "x": 0.1,
        "y": 0.1
       },
       "content": {
        "cell": "3c79bbba-b37f-4c7d-b198-d47eb0a70e3b",
        "part": "whole"
       },
       "id": "8f4933b0-f609-4915-aa4a-b7a2c3e97edf"
      }
     }
    },
    "9c383877-6d71-4bd5-9719-121939c657c1": {
     "id": "9c383877-6d71-4bd5-9719-121939c657c1",
     "prev": "28b47f18-dc95-4cfc-a70a-9f0620263f90",
     "regions": {
      "b038fe03-ff06-431b-8603-b4a9cca916eb": {
       "attrs": {
        "height": 0.8,
        "width": 0.8,
        "x": 0.1,
        "y": 0.1
       },
       "content": {
        "cell": "9f51b751-4410-47ee-816d-ba11183a3199",
        "part": "whole"
       },
       "id": "b038fe03-ff06-431b-8603-b4a9cca916eb"
      }
     }
    },
    "9d119faa-9c6a-4f0b-b429-c3862abc2fa4": {
     "id": "9d119faa-9c6a-4f0b-b429-c3862abc2fa4",
     "prev": "30db706e-5292-4c6f-b2d7-e6478d669614",
     "regions": {
      "48da6035-70b8-4877-b396-8c6c59ea3786": {
       "attrs": {
        "height": 0.8,
        "width": 0.8,
        "x": 0.1,
        "y": 0.1
       },
       "content": {
        "cell": "6bd05394-1141-4b42-a2fd-ed22d002092f",
        "part": "whole"
       },
       "id": "48da6035-70b8-4877-b396-8c6c59ea3786"
      }
     }
    },
    "a521c3c4-aecc-4c89-a553-fb42f04f132c": {
     "id": "a521c3c4-aecc-4c89-a553-fb42f04f132c",
     "prev": "9c383877-6d71-4bd5-9719-121939c657c1",
     "regions": {
      "9de8eb85-5f26-479e-ae09-9e7734a22110": {
       "attrs": {
        "height": 0.8,
        "width": 0.8,
        "x": 0.1,
        "y": 0.1
       },
       "content": {
        "cell": "51120dff-8a6b-4f61-a0f9-b06af0ded0f4",
        "part": "whole"
       },
       "id": "9de8eb85-5f26-479e-ae09-9e7734a22110"
      }
     }
    },
    "fa408131-ab52-43a2-9759-9e3d19c9a427": {
     "id": "fa408131-ab52-43a2-9759-9e3d19c9a427",
     "prev": "a521c3c4-aecc-4c89-a553-fb42f04f132c",
     "regions": {
      "a93d2b78-1727-4e25-9909-75591e87c6b6": {
       "attrs": {
        "height": 0.8,
        "width": 0.8,
        "x": 0.1,
        "y": 0.1
       },
       "content": {
        "cell": "dad58326-e272-42d0-bf32-a25dc0b7b8fa",
        "part": "whole"
       },
       "id": "a93d2b78-1727-4e25-9909-75591e87c6b6"
      }
     }
    }
   },
   "themes": {}
  }
 },
 "nbformat": 4,
 "nbformat_minor": 0
}
